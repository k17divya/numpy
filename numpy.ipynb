{
 "cells": [
  {
   "cell_type": "code",
   "execution_count": 1,
   "id": "6afd2ce3-8fe3-483e-a76e-d2767749652e",
   "metadata": {},
   "outputs": [],
   "source": [
    "# problem 1 "
   ]
  },
  {
   "cell_type": "code",
   "execution_count": null,
   "id": "0ad8427f-895c-46c1-9fd3-2a620848eb96",
   "metadata": {},
   "outputs": [],
   "source": [
    "Python libraries are collections of pre-written code and functions that extend the capabilities of the Python programming language.\n",
    "Python libraries makes it convenient for the programmer as they wouldn't have to write the same code multiple times for different programs."
   ]
  },
  {
   "cell_type": "code",
   "execution_count": null,
   "id": "dc276a27-aa1c-42e8-b45b-e431905610fe",
   "metadata": {},
   "outputs": [],
   "source": [
    "# problem 3"
   ]
  },
  {
   "cell_type": "code",
   "execution_count": 4,
   "id": "de994ace-fa91-4f7e-96f5-d7b8a053c3fd",
   "metadata": {},
   "outputs": [
    {
     "name": "stdout",
     "output_type": "stream",
     "text": [
      "Shape: (3, 4)\n",
      "Size: 12\n",
      "Dimension: 2\n"
     ]
    }
   ],
   "source": [
    "import numpy as np\n",
    "\n",
    "arr = np.array([[1, 2, 3, 4], [5, 6, 7, 8], [9, 10, 11, 12]])\n",
    "\n",
    "# Shape of the array\n",
    "shape = arr.shape\n",
    "\n",
    "# Size of the array\n",
    "size = arr.size\n",
    "\n",
    "# Number of dimensions of the array\n",
    "dimension = arr.ndim\n",
    "\n",
    "print(\"Shape:\", shape)\n",
    "print(\"Size:\", size)\n",
    "print(\"Dimension:\", dimension)"
   ]
  },
  {
   "cell_type": "code",
   "execution_count": null,
   "id": "5632dc30-af85-4e7c-ae78-263f119b0a92",
   "metadata": {},
   "outputs": [],
   "source": [
    "# problem 4"
   ]
  },
  {
   "cell_type": "code",
   "execution_count": 5,
   "id": "a7fa15f6-851b-4fb3-bfad-3c44ced421b7",
   "metadata": {},
   "outputs": [
    {
     "name": "stdout",
     "output_type": "stream",
     "text": [
      "First Row: [1 2 3 4]\n"
     ]
    }
   ],
   "source": [
    "import numpy as np\n",
    "arr = np.array([[1, 2, 3, 4], [5, 6, 7, 8], [9, 10, 11, 12]])\n",
    "first_row = arr[0]\n",
    "print(\"First Row:\", first_row)"
   ]
  },
  {
   "cell_type": "code",
   "execution_count": null,
   "id": "6a82091e-19e1-4ce7-bcd0-af2c9bf8a3f4",
   "metadata": {},
   "outputs": [],
   "source": [
    "# problem 5"
   ]
  },
  {
   "cell_type": "code",
   "execution_count": 6,
   "id": "3b280ad6-4f36-4840-aa9e-2956f9a37c1e",
   "metadata": {},
   "outputs": [
    {
     "name": "stdout",
     "output_type": "stream",
     "text": [
      "Element at third row and fourth column: 12\n"
     ]
    }
   ],
   "source": [
    "import numpy as np\n",
    "\n",
    "arr = np.array([[1, 2, 3, 4], [5, 6, 7, 8], [9, 10, 11, 12]])\n",
    "\n",
    "element = arr[2, 3]\n",
    "\n",
    "print(\"Element at third row and fourth column:\", element)"
   ]
  },
  {
   "cell_type": "code",
   "execution_count": 7,
   "id": "e598396d-841d-443b-8e36-f351c5c8abb4",
   "metadata": {},
   "outputs": [],
   "source": [
    "# problem 6"
   ]
  },
  {
   "cell_type": "code",
   "execution_count": 8,
   "id": "c31cc921-d364-49e1-a0be-8730db35d6e8",
   "metadata": {},
   "outputs": [
    {
     "name": "stdout",
     "output_type": "stream",
     "text": [
      "Odd-indexed elements: [ 2  4  6  8 10 12]\n"
     ]
    }
   ],
   "source": [
    "import numpy as np\n",
    "arr = np.array([[1, 2, 3, 4], [5, 6, 7, 8], [9, 10, 11, 12]])\n",
    "odd_indexed_elements = arr[:, 1::2].flatten()\n",
    "print(\"Odd-indexed elements:\", odd_indexed_elements)"
   ]
  },
  {
   "cell_type": "code",
   "execution_count": null,
   "id": "76a23f46-92fd-4da1-9a0a-103f2113f2ea",
   "metadata": {},
   "outputs": [],
   "source": [
    "# problem 7"
   ]
  },
  {
   "cell_type": "code",
   "execution_count": 9,
   "id": "54863fde-2b74-43ac-bef7-d03b52c6edf6",
   "metadata": {},
   "outputs": [
    {
     "name": "stdout",
     "output_type": "stream",
     "text": [
      "Random 3x3 matrix:\n",
      "[[0.1281389  0.63337056 0.94374374]\n",
      " [0.77492594 0.17345568 0.9360637 ]\n",
      " [0.57951164 0.63307563 0.12727015]]\n"
     ]
    }
   ],
   "source": [
    "import numpy as np\n",
    "\n",
    "rand_matrix = np.random.rand(3, 3)\n",
    "\n",
    "print(\"Random 3x3 matrix:\")\n",
    "print(rand_matrix)"
   ]
  },
  {
   "cell_type": "code",
   "execution_count": 10,
   "id": "e310ad09-6dab-474a-8916-db57633a86f2",
   "metadata": {},
   "outputs": [],
   "source": [
    "# problem 9"
   ]
  },
  {
   "cell_type": "code",
   "execution_count": 11,
   "id": "56b4486c-6a1b-4677-bd66-6f9c2faf13f3",
   "metadata": {},
   "outputs": [
    {
     "name": "stdout",
     "output_type": "stream",
     "text": [
      "Original Array:\n",
      "[[ 1  2  3  4]\n",
      " [ 5  6  7  8]\n",
      " [ 9 10 11 12]]\n",
      "Array with increased dimension:\n",
      "[[[ 1  2  3  4]\n",
      "  [ 5  6  7  8]\n",
      "  [ 9 10 11 12]]]\n"
     ]
    }
   ],
   "source": [
    "import numpy as np\n",
    "\n",
    "arr = np.array([[1, 2, 3, 4], [5, 6, 7, 8], [9, 10, 11, 12]])\n",
    "\n",
    "# Increase the dimension of the array\n",
    "new_arr = np.expand_dims(arr, axis=0)\n",
    "\n",
    "print(\"Original Array:\")\n",
    "print(arr)\n",
    "print(\"Array with increased dimension:\")\n",
    "print(new_arr)"
   ]
  },
  {
   "cell_type": "code",
   "execution_count": null,
   "id": "f3926456-590e-4a7a-84a3-270a58943fa5",
   "metadata": {},
   "outputs": [],
   "source": [
    "# problem 10"
   ]
  },
  {
   "cell_type": "code",
   "execution_count": 12,
   "id": "bbcb01ae-8682-4b4b-8930-04b7ef373b0a",
   "metadata": {},
   "outputs": [
    {
     "name": "stdout",
     "output_type": "stream",
     "text": [
      "Original Array:\n",
      "[[ 1  2  3  4]\n",
      " [ 5  6  7  8]\n",
      " [ 9 10 11 12]]\n",
      "Transposed Array:\n",
      "[[ 1  5  9]\n",
      " [ 2  6 10]\n",
      " [ 3  7 11]\n",
      " [ 4  8 12]]\n"
     ]
    }
   ],
   "source": [
    "import numpy as np\n",
    "\n",
    "arr = np.array([[1, 2, 3, 4], [5, 6, 7, 8], [9, 10, 11, 12]])\n",
    "\n",
    "# Transpose the array\n",
    "transposed_arr = np.transpose(arr)\n",
    "# Or, you can use arr.T\n",
    "\n",
    "print(\"Original Array:\")\n",
    "print(arr)\n",
    "print(\"Transposed Array:\")\n",
    "print(transposed_arr)"
   ]
  },
  {
   "cell_type": "code",
   "execution_count": null,
   "id": "33854d13-e473-4e29-8649-55a614731eb5",
   "metadata": {},
   "outputs": [],
   "source": [
    "# problem 11"
   ]
  },
  {
   "cell_type": "code",
   "execution_count": 15,
   "id": "5a4a79d2-550a-407f-8bce-7abcb12d0f36",
   "metadata": {},
   "outputs": [
    {
     "name": "stdout",
     "output_type": "stream",
     "text": [
      "Index-wise multiplication:\n",
      "[[  1   4   9  16]\n",
      " [ 25  36  49  64]\n",
      " [ 81 100 121 144]]\n"
     ]
    }
   ],
   "source": [
    "import numpy as np\n",
    "\n",
    "# Define the matrices\n",
    "A = np.array([[1, 2, 3, 4], [5, 6, 7, 8], [9, 10, 11, 12]])\n",
    "B = np.array([[1, 2, 3, 4], [5, 6, 7, 8], [9, 10, 11, 12]])\n",
    "\n",
    "# Index-wise multiplication\n",
    "index_wise_multiplication = A * B\n",
    "print(\"Index-wise multiplication:\")\n",
    "print(index_wise_multiplication)"
   ]
  },
  {
   "cell_type": "code",
   "execution_count": 16,
   "id": "21c7bb2e-9fe7-4a18-8bbf-1f0ce177557f",
   "metadata": {},
   "outputs": [
    {
     "name": "stdout",
     "output_type": "stream",
     "text": [
      "\n",
      "Matrix multiplication:\n",
      "[[ 30  70 110]\n",
      " [ 70 174 278]\n",
      " [110 278 446]]\n"
     ]
    }
   ],
   "source": [
    "import numpy as np\n",
    "\n",
    "# Define the matrices\n",
    "A = np.array([[1, 2, 3, 4], [5, 6, 7, 8], [9, 10, 11, 12]])\n",
    "B = np.array([[1, 2, 3, 4], [5, 6, 7, 8], [9, 10, 11, 12]])\n",
    "matrix_multiplication = np.dot(A, B.T)  # Assuming you want to multiply A by the transpose of B\n",
    "print(\"\\nMatrix multiplication:\")\n",
    "print(matrix_multiplication)"
   ]
  },
  {
   "cell_type": "code",
   "execution_count": 17,
   "id": "cb8e16f9-5f0f-497e-a6b4-5c8f055d96cc",
   "metadata": {},
   "outputs": [
    {
     "name": "stdout",
     "output_type": "stream",
     "text": [
      "\n",
      "Matrix addition:\n",
      "[[ 2  4  6  8]\n",
      " [10 12 14 16]\n",
      " [18 20 22 24]]\n"
     ]
    }
   ],
   "source": [
    "import numpy as np\n",
    "\n",
    "# Define the matrices\n",
    "A = np.array([[1, 2, 3, 4], [5, 6, 7, 8], [9, 10, 11, 12]])\n",
    "B = np.array([[1, 2, 3, 4], [5, 6, 7, 8], [9, 10, 11, 12]])\n",
    "\n",
    "# Add both matrices\n",
    "matrix_addition = A + B\n",
    "print(\"\\nMatrix addition:\")\n",
    "print(matrix_addition)"
   ]
  },
  {
   "cell_type": "code",
   "execution_count": 18,
   "id": "71453ed8-0afd-451e-b301-aa3f0fb4b6a8",
   "metadata": {},
   "outputs": [
    {
     "name": "stdout",
     "output_type": "stream",
     "text": [
      "/nMatrix subtraction:\n",
      "[[0 0 0 0]\n",
      " [0 0 0 0]\n",
      " [0 0 0 0]]\n"
     ]
    }
   ],
   "source": [
    "import numpy as np\n",
    "\n",
    "A = np.array([[1, 2, 3, 4], [5, 6, 7, 8], [9, 10, 11, 12]])\n",
    "B = np.array([[1, 2, 3, 4], [5, 6, 7, 8], [9, 10, 11, 12]])\n",
    "\n",
    "# Subtract matrix B from matrix A\n",
    "matrix_subtraction = A - B\n",
    "print(\"/nMatrix subtraction:\")\n",
    "print(matrix_subtraction)"
   ]
  },
  {
   "cell_type": "code",
   "execution_count": 19,
   "id": "2cd29e9e-21e9-4d7e-afc0-01d696f01557",
   "metadata": {},
   "outputs": [
    {
     "name": "stdout",
     "output_type": "stream",
     "text": [
      "/nMatrix division:\n",
      "[[1. 1. 1. 1.]\n",
      " [1. 1. 1. 1.]\n",
      " [1. 1. 1. 1.]]\n"
     ]
    }
   ],
   "source": [
    "import numpy as np\n",
    "\n",
    "# Define the matrices\n",
    "A = np.array([[1, 2, 3, 4], [5, 6, 7, 8], [9, 10, 11, 12]])\n",
    "B = np.array([[1, 2, 3, 4], [5, 6, 7, 8], [9, 10, 11, 12]])\n",
    "\n",
    "# Divide matrix B by matrix A\n",
    "matrix_division = B / A\n",
    "print(\"/nMatrix division:\")\n",
    "print(matrix_division)"
   ]
  },
  {
   "cell_type": "code",
   "execution_count": null,
   "id": "05da3bc3-e9cd-4b46-bf26-9cee900309bf",
   "metadata": {},
   "outputs": [],
   "source": [
    "# problem 12"
   ]
  },
  {
   "cell_type": "code",
   "execution_count": null,
   "id": "fa6461b6-7e2a-4a2c-8bb7-8f0c2cd84aec",
   "metadata": {},
   "outputs": [],
   "source": [
    "In NumPy, you can use the byteswap method to swap the byte order of an array. This method swaps the endianness of the array elements."
   ]
  },
  {
   "cell_type": "code",
   "execution_count": null,
   "id": "9837f2b0-41e5-41aa-a49c-7d3aef914923",
   "metadata": {},
   "outputs": [],
   "source": [
    "# problem 15"
   ]
  },
  {
   "cell_type": "code",
   "execution_count": null,
   "id": "24777123-caf6-4bbe-a45a-e065bc313970",
   "metadata": {},
   "outputs": [],
   "source": [
    "Broadcasting in NumPy is a mechanism that allows arrays of different shapes to be combined in arithmetic operations. When operating on two arrays, NumPy compares their shapes element-wise. It starts with the trailing dimensions and works its way backward, aligning dimensions where one of the dimensions is 1. The dimensions are compatible when either they are equal or one of them is 1."
   ]
  }
 ],
 "metadata": {
  "kernelspec": {
   "display_name": "Python 3 (ipykernel)",
   "language": "python",
   "name": "python3"
  },
  "language_info": {
   "codemirror_mode": {
    "name": "ipython",
    "version": 3
   },
   "file_extension": ".py",
   "mimetype": "text/x-python",
   "name": "python",
   "nbconvert_exporter": "python",
   "pygments_lexer": "ipython3",
   "version": "3.10.8"
  }
 },
 "nbformat": 4,
 "nbformat_minor": 5
}
